{
 "cells": [
  {
   "cell_type": "code",
   "execution_count": 3,
   "id": "4ab2a19d",
   "metadata": {},
   "outputs": [],
   "source": [
    "from ctrader_open_api import Client, Protobuf, TcpProtocol, Auth, EndPoints\n",
    "from ctrader_open_api.messages.OpenApiCommonMessages_pb2 import *\n",
    "from ctrader_open_api.messages.OpenApiCommonMessages_pb2 import *\n",
    "from ctrader_open_api.messages.OpenApiMessages_pb2 import *\n",
    "from ctrader_open_api.messages.OpenApiModelMessages_pb2 import *\n",
    "from twisted.internet import reactor"
   ]
  },
  {
   "cell_type": "code",
   "execution_count": 4,
   "id": "743eea57",
   "metadata": {},
   "outputs": [
    {
     "name": "stdout",
     "output_type": "stream",
     "text": [
      "Host (Live/Demo): live\n",
      "\n",
      "Connected\n",
      "Message received: \n",
      " errorCode: \"CH_CLIENT_AUTH_FAILURE\"\n",
      "description: \"clientId or clientSecret is incorrect\"\n",
      "\n",
      "\n",
      "Disconnected:  [Failure instance: Traceback (failure with no frames): <class 'twisted.internet.error.ConnectionDone'>: Connection was closed cleanly.\n",
      "]\n",
      "\n",
      "Connected\n",
      "Message received: \n",
      " errorCode: \"CH_CLIENT_AUTH_FAILURE\"\n",
      "description: \"clientId or clientSecret is incorrect\"\n",
      "\n",
      "\n",
      "Disconnected:  [Failure instance: Traceback (failure with no frames): <class 'twisted.internet.error.ConnectionDone'>: Connection was closed cleanly.\n",
      "]\n"
     ]
    }
   ],
   "source": [
    "hostType = input(\"Host (Live/Demo): \")\n",
    "host = EndPoints.PROTOBUF_LIVE_HOST if hostType.lower() == \"live\" else EndPoints.PROTOBUF_DEMO_HOST\n",
    "client = Client(host, EndPoints.PROTOBUF_PORT, TcpProtocol)\n",
    "\n",
    "def onError(failure): # Call back for errors\n",
    "    print(\"Message Error: \", failure)\n",
    "\n",
    "def connected(_): # Callback for client connection\n",
    "    print(\"\\nConnected\")\n",
    "    # Now we send a ProtoOAApplicationAuthReq\n",
    "    request = ProtoOAApplicationAuthReq()\n",
    "    request.clientId = \"Your application Client ID\"\n",
    "    request.clientSecret = \"Your application Client secret\"\n",
    "    # Client send method returns a Twisted deferred\n",
    "    deferred = client.send(request)\n",
    "    # You can use the returned Twisted deferred to attach callbacks\n",
    "    # for getting message response or error backs for getting error if something went wrong\n",
    "    # deferred.addCallbacks(onProtoOAApplicationAuthRes, onError)\n",
    "    deferred.addErrback(onError)\n",
    "\n",
    "def disconnected(reason): # Callback for client disconnection\n",
    "    print(\"\\nDisconnected: \", reason)\n",
    "\n",
    "def onMessageReceived(message): # Callback for receiving all messages\n",
    "    print(\"Message received: \\n\", Protobuf.extract(message))\n",
    "\n",
    "# Setting optional client callbacks\n",
    "client.setConnectedCallback(connected)\n",
    "client.setDisconnectedCallback(disconnected)\n",
    "client.setMessageReceivedCallback(onMessageReceived)\n",
    "# Starting the client service\n",
    "client.startService()\n",
    "# Run Twisted reactor\n",
    "reactor.run()"
   ]
  },
  {
   "cell_type": "code",
   "execution_count": null,
   "id": "0c55a725",
   "metadata": {},
   "outputs": [],
   "source": []
  }
 ],
 "metadata": {
  "kernelspec": {
   "display_name": "Python 3 (ipykernel)",
   "language": "python",
   "name": "python3"
  },
  "language_info": {
   "codemirror_mode": {
    "name": "ipython",
    "version": 3
   },
   "file_extension": ".py",
   "mimetype": "text/x-python",
   "name": "python",
   "nbconvert_exporter": "python",
   "pygments_lexer": "ipython3",
   "version": "3.9.6"
  }
 },
 "nbformat": 4,
 "nbformat_minor": 5
}
