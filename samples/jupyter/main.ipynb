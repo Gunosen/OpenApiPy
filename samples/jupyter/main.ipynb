{
 "cells": [
  {
   "cell_type": "markdown",
   "id": "56f1559b",
   "metadata": {},
   "source": [
    "# OpenApiPy Jupyter Sample\n",
    "\n",
    "In this Jupyter notebook we will use the Python package \"ctrader-open-api\" to get daily trend bars data from cTrader Open API.\n",
    "\n",
    "Let's start."
   ]
  },
  {
   "cell_type": "markdown",
   "id": "cca68e74",
   "metadata": {},
   "source": [
    "If you haven't already installed the \"ctrader-open-api\" package, run the next code cell to install it via pip:"
   ]
  },
  {
   "cell_type": "code",
   "execution_count": null,
   "id": "c53bfd78",
   "metadata": {},
   "outputs": [],
   "source": [
    "!pip install ctrader-open-api"
   ]
  },
  {
   "cell_type": "markdown",
   "id": "ca2b39c1",
   "metadata": {},
   "source": [
    "Then we have to import all necessary types:"
   ]
  },
  {
   "cell_type": "code",
   "execution_count": null,
   "id": "4ab2a19d",
   "metadata": {},
   "outputs": [],
   "source": [
    "from ctrader_open_api import Client, Protobuf, TcpProtocol, Auth, EndPoints\n",
    "from ctrader_open_api.messages.OpenApiCommonMessages_pb2 import *\n",
    "from ctrader_open_api.messages.OpenApiCommonMessages_pb2 import *\n",
    "from ctrader_open_api.messages.OpenApiMessages_pb2 import *\n",
    "from ctrader_open_api.messages.OpenApiModelMessages_pb2 import *\n",
    "from twisted.internet import reactor\n",
    "import json"
   ]
  },
  {
   "cell_type": "markdown",
   "id": "d91f78fe",
   "metadata": {},
   "source": [
    "Now we use the \"credentials-dev.json\" file to get your Open API application credentials.\n",
    "Be sure to populate it with your API application credentials and access token before running next cell:"
   ]
  },
  {
   "cell_type": "code",
   "execution_count": null,
   "id": "2e67ade6",
   "metadata": {},
   "outputs": [],
   "source": [
    "credentialsFile = open(\"credentials-dev.json\")\n",
    "credentials = json.load(credentialsFile)"
   ]
  },
  {
   "cell_type": "markdown",
   "id": "f40aa449",
   "metadata": {},
   "source": [
    "Then we will create a client based our selected host type:"
   ]
  },
  {
   "cell_type": "code",
   "execution_count": null,
   "id": "a81eaee2",
   "metadata": {},
   "outputs": [],
   "source": [
    "host = EndPoints.PROTOBUF_LIVE_HOST if credentials[\"HostType\"].lower() == \"live\" else EndPoints.PROTOBUF_DEMO_HOST\n",
    "client = Client(host, EndPoints.PROTOBUF_PORT, TcpProtocol)"
   ]
  },
  {
   "cell_type": "markdown",
   "id": "cc492670",
   "metadata": {},
   "source": [
    "Now lets set the client callbacks:"
   ]
  },
  {
   "cell_type": "code",
   "execution_count": null,
   "id": "743eea57",
   "metadata": {},
   "outputs": [],
   "source": [
    "def onError(client, failure): # Call back for errors\n",
    "    print(\"\\nMessage Error: \", failure)\n",
    "\n",
    "def connected(client): # Callback for client connection\n",
    "    print(\"\\nConnected\")\n",
    "    request = ProtoOAApplicationAuthReq()\n",
    "    request.clientId = credentials[\"ClientId\"]\n",
    "    request.clientSecret = credentials[\"Secret\"]\n",
    "    deferred = client.send(request)\n",
    "    deferred.addErrback(onError)\n",
    "\n",
    "def disconnected(client, reason): # Callback for client disconnection\n",
    "    print(\"\\nDisconnected: \", reason)\n",
    "\n",
    "def onMessageReceived(client, message): # Callback for receiving all messages\n",
    "    print(\"\\nMessage received: \\n\", Protobuf.extract(message))\n",
    "\n",
    "# Setting optional client callbacks\n",
    "client.setConnectedCallback(connected)\n",
    "client.setDisconnectedCallback(disconnected)\n",
    "client.setMessageReceivedCallback(onMessageReceived)"
   ]
  },
  {
   "cell_type": "markdown",
   "id": "fbcde03f",
   "metadata": {},
   "source": [
    "The last step is to run our client service, it will run inside Twisted reactor loop asynchronously:"
   ]
  },
  {
   "cell_type": "code",
   "execution_count": null,
   "id": "98c9510e",
   "metadata": {},
   "outputs": [],
   "source": [
    "# Starting the client service\n",
    "client.startService()\n",
    "# Run Twisted reactor, we imported it earlier\n",
    "reactor.run()"
   ]
  }
 ],
 "metadata": {
  "kernelspec": {
   "display_name": "Python 3 (ipykernel)",
   "language": "python",
   "name": "python3"
  },
  "language_info": {
   "codemirror_mode": {
    "name": "ipython",
    "version": 3
   },
   "file_extension": ".py",
   "mimetype": "text/x-python",
   "name": "python",
   "nbconvert_exporter": "python",
   "pygments_lexer": "ipython3",
   "version": "3.9.6"
  }
 },
 "nbformat": 4,
 "nbformat_minor": 5
}
